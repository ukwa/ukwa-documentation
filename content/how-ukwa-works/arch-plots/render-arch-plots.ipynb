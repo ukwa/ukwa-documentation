{
 "cells": [
  {
   "cell_type": "markdown",
   "id": "16f49969-e080-433f-bd9f-e5c9fcac2b8b",
   "metadata": {},
   "source": [
    "\n",
    "- https://plantuml.com\n",
    "- https://github.com/structurizr/cli\n",
    "    "
   ]
  },
  {
   "cell_type": "code",
   "execution_count": 7,
   "id": "04bd203b-4fec-44df-bc5d-89efac5a2593",
   "metadata": {},
   "outputs": [],
   "source": [
    "import os\n",
    "\n",
    "def generate_from_dsl(prefix):\n",
    "    os.system(f\"java -jar ../../../tools/structurizr-cli-1.11.0.jar export -o {prefix} -w {prefix}.dsl -f plantuml\")\n",
    "    os.system(f\"java -jar ../../../tools/plantuml-nodot.1.2021.7.jar -tsvg -o . {prefix}/*.puml\")\n",
    "    os.system(f\"ls -l {prefix}\")"
   ]
  },
  {
   "cell_type": "code",
   "execution_count": 8,
   "id": "e0f3d094-32ea-44af-9d2f-eaf51f30f418",
   "metadata": {},
   "outputs": [],
   "source": [
    "generate_from_dsl(\"arch-dc\")"
   ]
  },
  {
   "cell_type": "code",
   "execution_count": null,
   "id": "28828c54-3bb4-48b5-8d6c-bcb822056475",
   "metadata": {},
   "outputs": [],
   "source": []
  },
  {
   "cell_type": "code",
   "execution_count": null,
   "id": "96afb7f7-e159-4c06-80ed-51ce406f4375",
   "metadata": {},
   "outputs": [],
   "source": []
  }
 ],
 "metadata": {
  "kernelspec": {
   "display_name": "Python 3",
   "language": "python",
   "name": "python3"
  },
  "language_info": {
   "codemirror_mode": {
    "name": "ipython",
    "version": 3
   },
   "file_extension": ".py",
   "mimetype": "text/x-python",
   "name": "python",
   "nbconvert_exporter": "python",
   "pygments_lexer": "ipython3",
   "version": "3.9.5"
  }
 },
 "nbformat": 4,
 "nbformat_minor": 5
}
